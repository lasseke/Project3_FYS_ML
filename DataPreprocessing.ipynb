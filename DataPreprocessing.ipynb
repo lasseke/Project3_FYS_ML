{
 "cells": [
  {
   "cell_type": "markdown",
   "metadata": {},
   "source": [
    "# Mapping the vegetation distribution in Norway with different machine learning approaches\n",
    "### Data preprocessing\n",
    "Main workflow for reading and preprocessing the vegetation raw data."
   ]
  },
  {
   "cell_type": "code",
   "execution_count": null,
   "metadata": {},
   "outputs": [],
   "source": [
    "# Import all needed packages\n",
    "import numpy as np\n",
    "import pandas as pd"
   ]
  },
  {
   "cell_type": "markdown",
   "metadata": {},
   "source": [
    "## 1. Read and prepare data"
   ]
  },
  {
   "cell_type": "code",
   "execution_count": null,
   "metadata": {},
   "outputs": [],
   "source": [
    "# Read in data as pandas data frame\n",
    "df = pd.read_csv(\"./DataFiles/VegTypesWithPredictors_final.csv\", index_col=0)\n",
    "print(df.head())\n",
    "print(df.info())"
   ]
  },
  {
   "cell_type": "code",
   "execution_count": null,
   "metadata": {},
   "outputs": [],
   "source": [
    "### Convert categorical variables to correct data type\n",
    "# Name of columns w/ categorical vars\n",
    "cat_vars = [\"vt\", \"ar50_artype1\", \"ar50_skogbon1\", \"ar50_treslag1\", \"ar50_veg1\",\\\n",
    "            \"CorineLandCover2012\", \"geo_berggrunn1\", \"geo_grunnvann1\", \"geo_infiltr_evne1\",\\\n",
    "            \"geo_losmasse1\", \"geo_norge123\", \"geology_norge1\"]\n",
    "\n",
    "for cat in cat_vars:\n",
    "    if df[cat].dtype == \"float64\":\n",
    "        df[cat] = pd.to_numeric(df[cat], downcast ='integer')\n",
    "        df[cat] = df[cat].astype('category')\n",
    "    else:\n",
    "        df[cat] = df[cat].astype('category')\n",
    "\n",
    "# Create final target data frame and feature matrix\n",
    "df_target = df[\"vt\"]\n",
    "df = df.drop(\"vt\",axis=1)\n",
    "print(df.info())"
   ]
  },
  {
   "cell_type": "code",
   "execution_count": null,
   "metadata": {},
   "outputs": [],
   "source": [
    "### Create a second data frame with hot-one encoded categorical variables\n",
    "df_dummy = df.select_dtypes(exclude=['category'])\n",
    "#df_dummy = df.drop(cat_vars,axis=1)\n",
    "#cols = df.columns\n",
    "df_cats = df.select_dtypes(include=[\"category\"])\n",
    "categories = df_cats.columns\n",
    "\n",
    "for cat in categories:\n",
    "    cur = pd.get_dummies(df[cat],prefix=cat)\n",
    "    df_dummy = pd.concat(objs=[df_dummy, cur],axis=1)\n"
   ]
  },
  {
   "cell_type": "code",
   "execution_count": null,
   "metadata": {},
   "outputs": [],
   "source": [
    "print(df_dummy.info())\n",
    "df_dummy.head()"
   ]
  },
  {
   "cell_type": "code",
   "execution_count": null,
   "metadata": {},
   "outputs": [],
   "source": [
    "### Save all created objects as pickles\n",
    "df.to_pickle('./DataFiles/FeatureMatrixCats.pkl')\n",
    "df_dummy.to_pickle('./DataFiles/FeatureMatrixDummy.pkl')\n",
    "df_target.to_pickle('./DataFiles/TargetVTs.pkl')"
   ]
  },
  {
   "cell_type": "markdown",
   "metadata": {},
   "source": [
    "## 2. Prepare tables"
   ]
  },
  {
   "cell_type": "code",
   "execution_count": null,
   "metadata": {},
   "outputs": [],
   "source": [
    "### Export csv files to Latex\n",
    "import pandas as pd\n",
    "\n",
    "ev_df = pd.read_csv('./DataFiles/env_predictors.csv',sep=\";\")"
   ]
  },
  {
   "cell_type": "code",
   "execution_count": null,
   "metadata": {},
   "outputs": [],
   "source": [
    "ev_df.head()\n",
    "print(ev_df.to_latex(caption=\"Wall-to-wall environmental predictors used in the feature matrix.\"))"
   ]
  }
 ],
 "metadata": {
  "kernelspec": {
   "display_name": "Python 3",
   "language": "python",
   "name": "python3"
  },
  "language_info": {
   "codemirror_mode": {
    "name": "ipython",
    "version": 3
   },
   "file_extension": ".py",
   "mimetype": "text/x-python",
   "name": "python",
   "nbconvert_exporter": "python",
   "pygments_lexer": "ipython3",
   "version": "3.7.9"
  }
 },
 "nbformat": 4,
 "nbformat_minor": 4
}
