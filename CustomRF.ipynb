{
 "cells": [
  {
   "cell_type": "markdown",
   "metadata": {},
   "source": [
    "# Custom Random Forest implementation\n",
    "#### This script applies a customized random forest (RF) algorithm to the (in)famous \"Iris\" data set. Results are compared to the scikit-learn RF implementation. \n",
    "## 1. Load data, test functionality by calculate confusion matrix and metrics"
   ]
  },
  {
   "cell_type": "code",
   "execution_count": null,
   "metadata": {},
   "outputs": [],
   "source": [
    "### Import libraries\n",
    "# Matrix/vector handling\n",
    "import numpy as np\n",
    "import pandas as pd\n",
    "# Scikit-learn\n",
    "from sklearn.ensemble import RandomForestClassifier\n",
    "from sklearn import metrics\n",
    "from sklearn.model_selection import KFold\n",
    "# Own code\n",
    "from lib import RandomForest as rf\n",
    "from lib import Evaluation as evl\n",
    "from lib import DataHandling as dat\n",
    "from lib import Plotting as pl\n",
    "# Plotting\n",
    "import matplotlib.pyplot as plt"
   ]
  },
  {
   "cell_type": "code",
   "execution_count": null,
   "metadata": {},
   "outputs": [],
   "source": [
    "### Load Iris data set\n",
    "X_train, X_test, y_train, y_test, X_labs, y_labs = dat.getIrisData(test_fraction=0.2)\n",
    "\n",
    "### Grow forest\n",
    "irisRF = rf.RandomForest(num_trees=500,max_depth=10)\n",
    "irisRF.growForest(X_train, y_train, feature_names=X_labs, target_names=y_labs)\n",
    "# Make prediction\n",
    "y_pred,_ = irisRF.predict(X_test)"
   ]
  },
  {
   "cell_type": "code",
   "execution_count": null,
   "metadata": {},
   "outputs": [],
   "source": [
    "### Create confusion matrix\n",
    "\n",
    "# First, create dictionary for pretty data frame\n",
    "y_strings = [str(cl) for cl in sorted(set(np.concatenate([y_train,y_test])))]\n",
    "class_dict = dict(zip(y_strings, y_labs))\n",
    "\n",
    "# Now, matrix\n",
    "conf_mat, overall_metrics = evl.confMatMetrics(y_test,y_pred,class_dict=class_dict)\n",
    "# Print results\n",
    "print(conf_mat)\n",
    "print(overall_metrics)"
   ]
  },
  {
   "cell_type": "code",
   "execution_count": null,
   "metadata": {},
   "outputs": [],
   "source": [
    "### Export to LaTeX table?\n",
    "print(conf_mat.to_latex(caption=\"Confusion matrix for the classification results on random 20 percent of the training data.\"))\n",
    "print(overall_metrics.to_latex(caption=\"Chosen metrics for the classification results on random 20 percent of the training data.\"))"
   ]
  },
  {
   "cell_type": "markdown",
   "metadata": {},
   "source": [
    "## 2. Use cross validation to compare to scikit-learn"
   ]
  },
  {
   "cell_type": "code",
   "execution_count": null,
   "metadata": {},
   "outputs": [],
   "source": [
    "### Reload data without subsetting\n",
    "X, y, X_labs, y_labs = dat.getIrisData()\n",
    "\n",
    "### Create cross validation folds\n",
    "kf = KFold(n_splits=10,shuffle=True)\n",
    "split_idx = kf.split(X)\n",
    "\n",
    "### Initialize vectors to store performance metrics\n",
    "custom_test_acc = []\n",
    "custom_test_f1 = []\n",
    "sklearn_test_acc = []\n",
    "sklearn_test_f1 = []\n",
    "custom_oob = []\n",
    "sklearn_oob = []\n",
    "\n",
    "### Loop through folds\n",
    "for train_index, test_index in split_idx:\n",
    "    \n",
    "    # Subset data\n",
    "    cur_X_train = X[train_index,:]\n",
    "    cur_y_train = y[train_index]\n",
    "    \n",
    "    cur_X_test = X[test_index,:]\n",
    "    cur_y_test = y[test_index]\n",
    "    \n",
    "    ### Scikit Learn\n",
    "    sklrf = RandomForestClassifier(n_estimators=500, criterion='gini', max_depth=10, max_features='auto',\\\n",
    "                                   bootstrap=True, oob_score=True, verbose=0)\n",
    "    sklrf.fit(cur_X_train, cur_y_train)\n",
    "    skl_y_pred = sklrf.predict(cur_X_test)\n",
    "    \n",
    "    \n",
    "    ### Own implementation\n",
    "    custrf = rf.RandomForest(num_trees=500, max_depth=10, task='classification', split_method='gini', verbose=False)\n",
    "    custrf.growForest(cur_X_train,cur_y_train, feature_names=X_labs, target_names=y_labs)\n",
    "    cust_y_pred,_ = custrf.predict(cur_X_test)\n",
    "    \n",
    "    \n",
    "    ### CALCULATE SCORES :)\n",
    "    # OOB-error\n",
    "    custom_oob.append(custrf.calcOobError())\n",
    "    sklearn_oob.append(sklrf.oob_score_)\n",
    "    \n",
    "    # Accuracy\n",
    "    custom_test_acc.append(evl.accuracy(cur_y_test,cust_y_pred)) \n",
    "    sklearn_test_acc.append(evl.accuracy(cur_y_test,skl_y_pred)) \n",
    "    \n",
    "    # F1-score\n",
    "    custom_test_f1.append(metrics.f1_score(cur_y_test,cust_y_pred,average='weighted'))\n",
    "    sklearn_test_f1.append(metrics.f1_score(cur_y_test,skl_y_pred,average='weighted'))\n",
    "\n",
    "    \n",
    "'''\n",
    "Sklearn RF parameters:\n",
    "\n",
    "sklrf = RandomForestClassifier(n_estimators=500, criterion='gini', max_depth=10, min_samples_split=2,\\\n",
    "                               min_samples_leaf=1, min_weight_fraction_leaf=0.0, max_features='auto',\\\n",
    "                               max_leaf_nodes=None, min_impurity_decrease=0.0, min_impurity_split=None, bootstrap=True,\\\n",
    "                               oob_score=True, n_jobs=None, random_state=None, verbose=0, warm_start=False,\\\n",
    "                               class_weight=None, ccp_alpha=0.0, max_samples=None)\n",
    "'''"
   ]
  },
  {
   "cell_type": "code",
   "execution_count": null,
   "metadata": {},
   "outputs": [],
   "source": [
    "# Set data\n",
    "data_cust = [[1-x for x in custom_oob], custom_test_acc, custom_test_f1]\n",
    "data_skl = [sklearn_oob, sklearn_test_acc, sklearn_test_f1]\n",
    "ticks = ['OOB-score', 'Accuracy', 'F1-score']\n",
    "\n",
    "# Plot\n",
    "pl.metricsBoxPlot(data_cust, data_skl, ticks, fig_size=(10,8), _save=False, savename=\"Box_SklVsOwn_AccF1oob.png\")"
   ]
  }
 ],
 "metadata": {
  "kernelspec": {
   "display_name": "Python 3",
   "language": "python",
   "name": "python3"
  },
  "language_info": {
   "codemirror_mode": {
    "name": "ipython",
    "version": 3
   },
   "file_extension": ".py",
   "mimetype": "text/x-python",
   "name": "python",
   "nbconvert_exporter": "python",
   "pygments_lexer": "ipython3",
   "version": "3.7.9"
  }
 },
 "nbformat": 4,
 "nbformat_minor": 4
}
