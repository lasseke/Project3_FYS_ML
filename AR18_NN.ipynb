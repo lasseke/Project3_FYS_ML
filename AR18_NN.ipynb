{
 "cells": [
  {
   "cell_type": "markdown",
   "metadata": {},
   "source": [
    "# Mapping the vegetation distribution in Norway using deep learning\n",
    "### Analysis pt. 1\n",
    "Main workflow for reading the preprocessed data and setting up the experiments."
   ]
  },
  {
   "cell_type": "code",
   "execution_count": null,
   "metadata": {},
   "outputs": [],
   "source": [
    "### Import required packages\n",
    "# Data handling\n",
    "import numpy as np\n",
    "import pandas as pd\n",
    "from sklearn.model_selection import train_test_split\n",
    "from sklearn.preprocessing import StandardScaler, OneHotEncoder\n",
    "from sklearn.preprocessing import LabelBinarizer\n",
    "\n",
    "# Spatial\n",
    "#import spacv\n",
    "#import geopandas as gpd\n",
    "\n",
    "# Metrics?\n",
    "from sklearn.model_selection import cross_val_score"
   ]
  },
  {
   "cell_type": "markdown",
   "metadata": {},
   "source": [
    "## 1. Read and partition data "
   ]
  },
  {
   "cell_type": "code",
   "execution_count": null,
   "metadata": {},
   "outputs": [],
   "source": [
    "### Initialize Onehotencoder and Scaler\n",
    "onehotencoder = OneHotEncoder(categories=\"auto\")\n",
    "sc = StandardScaler()\n",
    "\n",
    "### Read confusion matrices, one hot-encoded (for NN), one not (decision trees)\n",
    "#X_cat = pd.read_pickle(\"./DataFiles/FeatureMatrixCats.pkl\")\n",
    "#X_dum = pd.read_pickle(\"./DataFiles/FeatureMatrixDummy.pkl\")\n",
    "\n",
    "# Read target\n",
    "#y_cat = pd.read_pickle(\"./DataFiles/TargetVTs.pkl\")\n",
    "y_dum = LabelBinarizer().fit_transform(y_cat)\n",
    "\n",
    "### Normalize the NN feature matrix\n",
    "X_dum_scaled = np.array(X_dum)"
   ]
  },
  {
   "cell_type": "code",
   "execution_count": null,
   "metadata": {},
   "outputs": [],
   "source": [
    "### Normalize the NN feature matrix\n",
    "X_dum_scaled[:,3:65] = sc.fit_transform(X_dum_scaled[:,3:65]) # Omit x/y/plotid and cat. dummy variables"
   ]
  },
  {
   "cell_type": "code",
   "execution_count": null,
   "metadata": {},
   "outputs": [],
   "source": [
    "### Construct final feature matrices\n",
    "\n",
    "# Remove variables from data frames that should not be in feature matrix\n",
    "rmvars = [\"x\",\"y\",\"plot_id\",\"geology_norge1\"]\n",
    "X_cat_final = X_cat.drop(rmvars, axis=1)\n",
    "\n",
    "# Remove from scaled numerical matrix as well, mind different col names for cat. variables!\n",
    "rmvars = [\"x\",\"y\",\"plot_id\",\"geology_norge1_1\",\"geology_norge1_2\",\"geology_norge1_3\"]\n",
    "idx_rm = [X_dum.columns.get_loc(c) for c in rmvars if c in X_dum]\n",
    "X_dum_scaled_final = np.delete(X_dum_scaled, idx_rm, axis=1)"
   ]
  },
  {
   "cell_type": "code",
   "execution_count": null,
   "metadata": {},
   "outputs": [],
   "source": [
    "### Perform train test split\n",
    "# Set splitting parameters\n",
    "testSetRatio = 0.2    # Proportion of data that should end up in test set\n",
    "seed  = 77           # Random seed to make results reproducible\n",
    "\n",
    "# Start with numerical scaled\n",
    "X_dummy_train, X_dummy_test, y_dummy_train, y_dummy_test =\\\n",
    "train_test_split(X_dum_scaled_final, y_dum, test_size = testSetRatio,\\\n",
    "                 random_state = seed)"
   ]
  },
  {
   "cell_type": "code",
   "execution_count": null,
   "metadata": {},
   "outputs": [],
   "source": [
    "# Custom dense neural network\n",
    "\n",
    "def getNN():\n",
    "   \n",
    "    from keras.models import Sequential\n",
    "    from keras.layers import Dense\n",
    "    from keras.layers import LeakyReLU\n",
    "    from keras.layers import Dropout\n",
    "    from keras import regularizers\n",
    "    from keras import metrics\n",
    "    #import tensorflow_addons as tfa\n",
    "\n",
    "    ### Define metrics\n",
    "    metrics = [\n",
    "        metrics.CategoricalAccuracy(name=\"categorical_accuracy\"),\n",
    "        metrics.FalseNegatives(name=\"fn\"),\n",
    "        metrics.FalsePositives(name=\"fp\"),\n",
    "        metrics.TrueNegatives(name=\"tn\"),\n",
    "        metrics.TruePositives(name=\"tp\"),\n",
    "        metrics.Precision(name=\"precision\"),\n",
    "        metrics.Recall(name=\"recall\"),\n",
    "        metrics.AUC(name='auc')#,\n",
    "        #tfa.metrics.CohenKappa(name='kappa')\n",
    "    ]\n",
    "\n",
    "\n",
    "\n",
    "    # define the keras model\n",
    "    nn = Sequential()\n",
    "    nn.add(Dense(256, \n",
    "                 input_dim=X_dummy_train.shape[1],\n",
    "                kernel_regularizer='l1'))#, activation='relu'))\n",
    "    nn.add(LeakyReLU(alpha=0.1))\n",
    "    nn.add(Dropout(0.1))\n",
    "\n",
    "    nn.add(Dense(128))#, activation='relu'))#,kernel_regularizer='l1'))\n",
    "    nn.add(LeakyReLU(alpha=0.1))\n",
    "    nn.add(Dropout(0.1))\n",
    "\n",
    "    nn.add(Dense(64))#, activation='relu'))#,kernel_regularizer='l1'))\n",
    "    nn.add(LeakyReLU(alpha=0.1))\n",
    "    nn.add(Dropout(0.1))\n",
    "\n",
    "    nn.add(Dense(64))#, activation='relu'))#,kernel_regularizer='l1'))\n",
    "    nn.add(LeakyReLU(alpha=0.1))\n",
    "    nn.add(Dropout(0.1))\n",
    "\n",
    "    nn.add(Dense(y_dummy_train.shape[1], activation='softmax'))\n",
    "\n",
    "    nn.compile(loss='categorical_crossentropy', optimizer='Adamax', metrics=metrics)\n",
    "    \n",
    "    return nn\n"
   ]
  },
  {
   "cell_type": "code",
   "execution_count": null,
   "metadata": {},
   "outputs": [],
   "source": [
    "### Set up neural network\n",
    "nn = getNN()"
   ]
  },
  {
   "cell_type": "code",
   "execution_count": null,
   "metadata": {},
   "outputs": [],
   "source": [
    "# fit model\n",
    "history = nn.fit(X_dummy_train, y_dummy_train, validation_data=(X_dummy_test, y_dummy_test), epochs=20, verbose=0)"
   ]
  },
  {
   "cell_type": "code",
   "execution_count": null,
   "metadata": {},
   "outputs": [],
   "source": [
    "### Print available metrics to plot\n",
    "print(nn.metrics_names)\n",
    "train_metrics = nn.evaluate(X_dummy_train, y_dummy_train, verbose=0)\n",
    "print(train_metrics)"
   ]
  },
  {
   "cell_type": "code",
   "execution_count": null,
   "metadata": {},
   "outputs": [],
   "source": [
    "X_dummy_train.shape"
   ]
  },
  {
   "cell_type": "code",
   "execution_count": null,
   "metadata": {},
   "outputs": [],
   "source": [
    "import matplotlib.pyplot as plt \n",
    "\n",
    "# Evaluate the model\n",
    "train_metrics = nn.evaluate(X_dummy_train, y_dummy_train, verbose=0)\n",
    "test_metrics = nn.evaluate(X_dummy_test, y_dummy_test, verbose=0)\n",
    "print('Accuracy assessment. Train: %.3f, Test: %.3f' % (train_metrics[1], test_metrics[1]))\n",
    "\n",
    "# plot loss during training\n",
    "plt.subplot(211)\n",
    "plt.title('Loss')\n",
    "plt.plot(history.history['loss'], label='train')\n",
    "plt.plot(history.history['val_loss'], label='test')\n",
    "plt.legend()\n",
    "\n",
    "# plot accuracy during training\n",
    "plt.subplot(212)\n",
    "plt.title('Accuracy')\n",
    "plt.plot(history.history['categorical_accuracy'], label='train')\n",
    "plt.plot(history.history['val_categorical_accuracy'], label='test')\n",
    "plt.legend()\n",
    "plt.show()"
   ]
  },
  {
   "cell_type": "code",
   "execution_count": null,
   "metadata": {},
   "outputs": [],
   "source": [
    "### Save trained model in file?\n",
    "#nn.save('./Results/TrainedModel/firstMLP')\n",
    "#nn.save('./Results/TrainedModel/first_MLP.h5') # For representation"
   ]
  },
  {
   "cell_type": "markdown",
   "metadata": {},
   "source": [
    "### Use trained model to calculate k-fold cv scores\n",
    "------------------------------------------------------"
   ]
  },
  {
   "cell_type": "code",
   "execution_count": null,
   "metadata": {},
   "outputs": [],
   "source": [
    "from sklearn.model_selection import KFold\n",
    "\n",
    "### Create cross validation folds\n",
    "kf = KFold(n_splits=5,shuffle=True)\n",
    "split_idx = kf.split(X_dum_scaled_final)\n",
    "\n",
    "### Initialize vectors to store performance metrics\n",
    "#print(nn.metrics_names)\n",
    "# ['loss', 'categorical_accuracy', 'fn', 'fp', 'tn', 'tp', 'precision', 'recall', 'auc']\n",
    "\n",
    "### Initialize empty lists\n",
    "MODELS = []\n",
    "cat_acc_cv, prec_cv, rec_cv, f1_cv, auc_cv = [],[],[],[],[]\n",
    "cat_acc_cv_test, prec_cv_test, rec_cv_test, f1_cv_test, auc_cv_test = [],[],[],[],[]"
   ]
  },
  {
   "cell_type": "code",
   "execution_count": null,
   "metadata": {},
   "outputs": [],
   "source": [
    "### Loop through folds\n",
    "\n",
    "for train_index, test_index in split_idx:\n",
    "    \n",
    "    ### Subset data to current fold\n",
    "    X_dummy_train = X_dum_scaled_final[train_index,:]\n",
    "    y_dummy_train = y_dum[train_index,:]\n",
    "    \n",
    "    X_dummy_test = X_dum_scaled_final[test_index,:]\n",
    "    y_dummy_test = y_dum[test_index,:]\n",
    "    \n",
    "    ### Load NN\n",
    "    cur_nn = getNN()\n",
    "    \n",
    "    ### fit model\n",
    "    cur_history = cur_nn.fit(X_dummy_train, y_dummy_train, validation_data=(X_dummy_test, y_dummy_test), epochs=10, verbose=0)\n",
    "    # Save model\n",
    "    MODELS.append(cur_nn)\n",
    "    \n",
    "    ### Evaluate the model\n",
    "    train_metrics = cur_nn.evaluate(X_dummy_train, y_dummy_train, verbose=0)\n",
    "    test_metrics = cur_nn.evaluate(X_dummy_test, y_dummy_test, verbose=0)\n",
    "    \n",
    "    # Determine metric indices\n",
    "    names = cur_nn.metrics_names\n",
    "    \n",
    "    # Save values\n",
    "    cat_acc_cv.append(train_metrics[names.index('categorical_accuracy')])\n",
    "    prec_cv.append(train_metrics[names.index('precision')])\n",
    "    rec_cv.append(train_metrics[names.index('recall')])\n",
    "    #kappa_cv.append(train_metrics[names.index('kappa')])\n",
    "    auc_cv.append(train_metrics[names.index('auc')])\n",
    "    \n",
    "    cat_acc_cv_test.append(test_metrics[names.index('categorical_accuracy')])\n",
    "    prec_cv_test.append(test_metrics[names.index('precision')])\n",
    "    rec_cv_test.append(test_metrics[names.index('recall')])\n",
    "    #kappa_cv_test.append(test_metrics[names.index('kappa')])\n",
    "    auc_cv_test.append(test_metrics[names.index('auc')])\n",
    "    \n",
    "\n",
    "## Finally, calculate MACRO f1-score\n",
    "f1_cv = [2*(pr*re)/(pr+re) for pr,re in zip(prec_cv,rec_cv)]\n",
    "f1_cv_test = [2*(pr*re)/(pr+re) for pr,re in zip(prec_cv_test,rec_cv_test)]"
   ]
  },
  {
   "cell_type": "code",
   "execution_count": null,
   "metadata": {},
   "outputs": [],
   "source": [
    "df_train = pd.DataFrame(data={\"categorical_accuracy\": cat_acc_cv, \"precision\": prec_cv, \"recall\": rec_cv, \"auc\": auc_cv, \"f1_score\": f1_cv})\n",
    "df_test = pd.DataFrame(data={\"categorical_accuracy\": cat_acc_cv_test, \"precision\": prec_cv_test, \"recall\": rec_cv_test, \"auc\": auc_cv_test, \"f1_score\": f1_cv_test})\n",
    "\n",
    "#df_train.to_csv(\"./Results/Tables/NN_trainmetrics.csv\", sep=',',index=False)\n",
    "#df_test.to_csv(\"./Results/Tables/NN_testmetrics.csv\", sep=',',index=False)"
   ]
  },
  {
   "cell_type": "code",
   "execution_count": null,
   "metadata": {},
   "outputs": [],
   "source": [
    "print(df_test)"
   ]
  }
 ],
 "metadata": {
  "kernelspec": {
   "display_name": "Python 3",
   "language": "python",
   "name": "python3"
  },
  "language_info": {
   "codemirror_mode": {
    "name": "ipython",
    "version": 3
   },
   "file_extension": ".py",
   "mimetype": "text/x-python",
   "name": "python",
   "nbconvert_exporter": "python",
   "pygments_lexer": "ipython3",
   "version": "3.7.9"
  }
 },
 "nbformat": 4,
 "nbformat_minor": 4
}
